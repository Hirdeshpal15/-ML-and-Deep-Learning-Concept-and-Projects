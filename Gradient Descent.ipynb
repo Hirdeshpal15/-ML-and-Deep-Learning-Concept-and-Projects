{
 "cells": [
  {
   "cell_type": "code",
   "execution_count": 2,
   "id": "3032a589-4faf-413c-a306-c8cd11035bf4",
   "metadata": {},
   "outputs": [],
   "source": [
    "# \"3blue1brown\" youtube channel of graph to understand the calculas"
   ]
  },
  {
   "cell_type": "code",
   "execution_count": 4,
   "id": "e3667b59-3868-4d64-9ee4-a35166101948",
   "metadata": {},
   "outputs": [],
   "source": [
    "# https://www.youtube.com/watch?v=IU5fuoYBTAM - ( Batch vs Stochastics vs Mini Batch Gradient Descent)"
   ]
  },
  {
   "cell_type": "code",
   "execution_count": 10,
   "id": "46803f46-ffb3-4eb0-a2b4-4e627a49fcc2",
   "metadata": {},
   "outputs": [],
   "source": [
    "# https://github.com/codebasics/deep-learning-keras-tf-tutorial/blob/master/8_sgd_vs_gd/gd_and_sgd.ipynb"
   ]
  },
  {
   "cell_type": "code",
   "execution_count": null,
   "id": "a339168c-d59b-47a5-a20d-944f3a6816e6",
   "metadata": {},
   "outputs": [],
   "source": []
  },
  {
   "cell_type": "code",
   "execution_count": null,
   "id": "59faee66-c0ac-4cea-86f0-3a0c787d9a2e",
   "metadata": {},
   "outputs": [],
   "source": []
  }
 ],
 "metadata": {
  "kernelspec": {
   "display_name": "Python [conda env:base] *",
   "language": "python",
   "name": "conda-base-py"
  },
  "language_info": {
   "codemirror_mode": {
    "name": "ipython",
    "version": 3
   },
   "file_extension": ".py",
   "mimetype": "text/x-python",
   "name": "python",
   "nbconvert_exporter": "python",
   "pygments_lexer": "ipython3",
   "version": "3.11.5"
  }
 },
 "nbformat": 4,
 "nbformat_minor": 5
}

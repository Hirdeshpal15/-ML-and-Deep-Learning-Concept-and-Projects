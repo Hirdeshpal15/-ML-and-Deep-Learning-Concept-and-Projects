{
 "cells": [
  {
   "cell_type": "code",
   "execution_count": 1,
   "id": "76a2e825-7189-498f-98b5-d4b9613b8798",
   "metadata": {},
   "outputs": [],
   "source": [
    "# It helps in selecting the best model and hyperparameters while minimizing overfitting.\n",
    "# Cross-validation is commonly used in techniques like Grid Search or Random Search to find the best hyperparameters for a model\n",
    "# Cross-validation helps compare multiple models and choose the one with the best generalization ability.\n",
    "# Preventing Overfitting & Underfitting"
   ]
  },
  {
   "cell_type": "code",
   "execution_count": 76,
   "id": "a1d2e5bf-2187-4c57-b5ae-c4f802e4ca72",
   "metadata": {},
   "outputs": [],
   "source": [
    "from sklearn.linear_model import LogisticRegression\n",
    "from sklearn.svm import SVC\n",
    "from sklearn.ensemble import RandomForestClassifier\n",
    "import pandas as pd\n",
    "from sklearn.datasets import load_digits\n",
    "\n",
    "digits = load_digits()"
   ]
  },
  {
   "cell_type": "code",
   "execution_count": 78,
   "id": "e0c6f7a3-2bad-4701-9b76-09fd5c5a5039",
   "metadata": {},
   "outputs": [],
   "source": [
    "from sklearn.model_selection import train_test_split\n",
    "\n",
    "# you can also create dataframe(df) and then into X,y for your visibilty\n",
    "X_train,X_test,y_train,y_test = train_test_split(digits.data,digits.target, test_size=.30)"
   ]
  },
  {
   "cell_type": "markdown",
   "id": "0a718c8a-d023-44bd-b3f0-1f3564f4d0ec",
   "metadata": {},
   "source": [
    "### Logistic Regression\n",
    "\n"
   ]
  },
  {
   "cell_type": "code",
   "execution_count": 81,
   "id": "f8fed348-470d-4672-8898-f8b91ff40584",
   "metadata": {},
   "outputs": [
    {
     "data": {
      "text/plain": [
       "0.9666666666666667"
      ]
     },
     "execution_count": 81,
     "metadata": {},
     "output_type": "execute_result"
    }
   ],
   "source": [
    "lr = LogisticRegression() ## giving error as: TOTAL NO. of ITERATIONS REACHED LIMIT.\n",
    "lr = LogisticRegression(solver='saga',max_iter=1000)\n",
    "lr.fit(X_train,y_train)\n",
    "lr.score(X_test,y_test)"
   ]
  },
  {
   "cell_type": "markdown",
   "id": "a9060cf6-25bc-4838-be12-9b6cec6b1196",
   "metadata": {},
   "source": [
    "### SVM"
   ]
  },
  {
   "cell_type": "code",
   "execution_count": 84,
   "id": "8eeca54a-e5cf-4919-a69a-bfd6df51114b",
   "metadata": {},
   "outputs": [
    {
     "data": {
      "text/plain": [
       "0.9888888888888889"
      ]
     },
     "execution_count": 84,
     "metadata": {},
     "output_type": "execute_result"
    }
   ],
   "source": [
    "svm = SVC()\n",
    "svm.fit(X_train,y_train)\n",
    "svm.score(X_test,y_test)"
   ]
  },
  {
   "cell_type": "markdown",
   "id": "d9cf7f6d-a6fa-49c6-8092-4684ed9a0dbe",
   "metadata": {},
   "source": [
    "### Random Forest\n",
    "\n"
   ]
  },
  {
   "cell_type": "code",
   "execution_count": 89,
   "id": "d971f6ca-7465-4ba4-9b61-fd72177f46e4",
   "metadata": {},
   "outputs": [
    {
     "data": {
      "text/plain": [
       "0.9740740740740741"
      ]
     },
     "execution_count": 89,
     "metadata": {},
     "output_type": "execute_result"
    }
   ],
   "source": [
    "rf = RandomForestClassifier()\n",
    "rf.fit(X_train,y_train)\n",
    "rf.score(X_test,y_test)"
   ]
  },
  {
   "cell_type": "markdown",
   "id": "8c5c6051-86cc-4a5f-a239-b5fe6aa47ab3",
   "metadata": {},
   "source": [
    "# KFold cross validation\n",
    "\n",
    "Basic example\n"
   ]
  },
  {
   "cell_type": "code",
   "execution_count": 92,
   "id": "931cfd31-4396-4ebe-882c-5cbe4c88d956",
   "metadata": {},
   "outputs": [
    {
     "data": {
      "text/plain": [
       "KFold(n_splits=3, random_state=None, shuffle=False)"
      ]
     },
     "execution_count": 92,
     "metadata": {},
     "output_type": "execute_result"
    }
   ],
   "source": [
    "from sklearn.model_selection import KFold\n",
    "kf = KFold(n_splits=3)\n",
    "kf"
   ]
  },
  {
   "cell_type": "code",
   "execution_count": 94,
   "id": "dbfc6cf9-8d68-4747-a7ee-aa4fd7b63480",
   "metadata": {},
   "outputs": [
    {
     "name": "stdout",
     "output_type": "stream",
     "text": [
      "[3 4 5 6 7 8] [0 1 2]\n",
      "[0 1 2 6 7 8] [3 4 5]\n",
      "[0 1 2 3 4 5] [6 7 8]\n"
     ]
    }
   ],
   "source": [
    "for train_index,test_index in kf.split([1,2,3,4,5,6,7,8,9]):\n",
    "    print(train_index,test_index)"
   ]
  },
  {
   "cell_type": "code",
   "execution_count": 96,
   "id": "1db72872-6ace-4d0d-aae2-fe0ca169afae",
   "metadata": {},
   "outputs": [],
   "source": [
    "def get_score(model,X_train,X_test,y_train,y_test):\n",
    "    model.fit(X_train,y_train)\n",
    "    return model.score(X_test,y_test)"
   ]
  },
  {
   "cell_type": "code",
   "execution_count": 98,
   "id": "ac7ec307-7149-4d3d-979c-476f54c1cc0e",
   "metadata": {},
   "outputs": [
    {
     "data": {
      "text/plain": [
       "0.9703703703703703"
      ]
     },
     "execution_count": 98,
     "metadata": {},
     "output_type": "execute_result"
    }
   ],
   "source": [
    "# get_score(LogisticRegression(solver='saga',max_iter=1000),X_train,X_test,y_train,y_test)\n",
    "# get_score(SVC(),X_train,X_test,y_train,y_test)\n",
    "get_score(RandomForestClassifier(),X_train,X_test,y_train,y_test)"
   ]
  },
  {
   "cell_type": "code",
   "execution_count": 100,
   "id": "a0799a1f-c391-4614-b821-7b46710dcec0",
   "metadata": {},
   "outputs": [],
   "source": [
    "from sklearn.model_selection import StratifiedKFold\n",
    "folds =StratifiedKFold(n_splits=3)"
   ]
  },
  {
   "cell_type": "code",
   "execution_count": 130,
   "id": "68e5f376-1bc4-428b-9453-362347a74f1d",
   "metadata": {},
   "outputs": [
    {
     "data": {
      "text/plain": [
       "\"\\nscore_l =[]\\nscore_svm =[]\\nscore_rf =[]\\n\\nfor train_index, test_index in kf.split(digits.data):\\n    X_train,X_test,y_train,y_test = digits.data[train_index],digits.data[test_index],                                     digits.target[train_index], digits.target[test_index]\\n    score_l.append(get_score(LogisticRegression(solver='saga',max_iter=1000),X_train,X_test,y_train,y_test))\\n    score_svm.append(get_score(SVC(),X_train,X_test,y_train,y_test))\\n    score_rf.append(get_score(RandomForestClassifier(),X_train,X_test,y_train,y_test))\\n\""
      ]
     },
     "execution_count": 130,
     "metadata": {},
     "output_type": "execute_result"
    }
   ],
   "source": [
    "'''\n",
    "\n",
    "score_l =[]\n",
    "score_svm =[]\n",
    "score_rf =[]\n",
    "\n",
    "for train_index, test_index in kf.split(digits.data):\n",
    "    X_train,X_test,y_train,y_test = digits.data[train_index],digits.data[test_index], \\\n",
    "                                    digits.target[train_index], digits.target[test_index]\n",
    "    score_l.append(get_score(LogisticRegression(solver='saga',max_iter=1000),X_train,X_test,y_train,y_test))\n",
    "    score_svm.append(get_score(SVC(),X_train,X_test,y_train,y_test))\n",
    "    score_rf.append(get_score(RandomForestClassifier(),X_train,X_test,y_train,y_test))\n",
    "\n",
    "'''"
   ]
  },
  {
   "cell_type": "code",
   "execution_count": 124,
   "id": "b6a77cdb-4d45-4ed3-903d-b3185c906485",
   "metadata": {},
   "outputs": [
    {
     "data": {
      "text/plain": [
       "[0.9248747913188647, 0.9432387312186978, 0.9148580968280468]"
      ]
     },
     "execution_count": 124,
     "metadata": {},
     "output_type": "execute_result"
    }
   ],
   "source": [
    "score_l"
   ]
  },
  {
   "cell_type": "code",
   "execution_count": 118,
   "id": "6c4bcf67-6521-43c8-ae3d-d944bbad8aac",
   "metadata": {},
   "outputs": [
    {
     "data": {
      "text/plain": [
       "[0.9666110183639399, 0.9816360601001669, 0.9549248747913188]"
      ]
     },
     "execution_count": 118,
     "metadata": {},
     "output_type": "execute_result"
    }
   ],
   "source": [
    "score_svm"
   ]
  },
  {
   "cell_type": "code",
   "execution_count": 120,
   "id": "aea11dee-e338-4b1b-84df-594979d05554",
   "metadata": {},
   "outputs": [
    {
     "data": {
      "text/plain": [
       "[0.9398998330550918, 0.9549248747913188, 0.9131886477462438]"
      ]
     },
     "execution_count": 120,
     "metadata": {},
     "output_type": "execute_result"
    }
   ],
   "source": [
    "score_rf"
   ]
  },
  {
   "cell_type": "markdown",
   "id": "6a0313f4-3ed0-4231-a4d0-c6fc787a48fc",
   "metadata": {},
   "source": [
    "# cross_val_score function"
   ]
  },
  {
   "cell_type": "code",
   "execution_count": 166,
   "id": "ac2d4feb-ed2c-46f0-aeb9-6e17d3beefad",
   "metadata": {},
   "outputs": [],
   "source": [
    "# you can useinbuild function for above code.\n",
    "\n",
    "from sklearn.model_selection import cross_val_score\n",
    "import numpy as np"
   ]
  },
  {
   "cell_type": "code",
   "execution_count": 139,
   "id": "43d47206-f5e2-49a0-bcde-47e69f82ed3c",
   "metadata": {},
   "outputs": [
    {
     "data": {
      "text/plain": [
       "array([0.96111111, 0.94444444, 0.98328691, 0.98885794, 0.93871866])"
      ]
     },
     "execution_count": 139,
     "metadata": {},
     "output_type": "execute_result"
    }
   ],
   "source": [
    "cross_val_score(SVC(),digits.data,digits.target)"
   ]
  },
  {
   "cell_type": "code",
   "execution_count": 156,
   "id": "23c52d62-d7fa-4b11-9ef1-2fc5ee77d6f1",
   "metadata": {},
   "outputs": [
    {
     "data": {
      "text/plain": [
       "array([0.93611111, 0.91666667, 0.95821727, 0.95821727, 0.91364903])"
      ]
     },
     "execution_count": 156,
     "metadata": {},
     "output_type": "execute_result"
    }
   ],
   "source": [
    "cross_val_score(RandomForestClassifier(),digits.data,digits.target)\n"
   ]
  },
  {
   "cell_type": "markdown",
   "id": "439f388d-93e5-4a93-8806-d5c1ad2ae72d",
   "metadata": {},
   "source": [
    "# Parameter tunning using k fold cross validation"
   ]
  },
  {
   "cell_type": "code",
   "execution_count": 168,
   "id": "07455a05-6692-49c9-bbec-dbc625cdb3ed",
   "metadata": {},
   "outputs": [
    {
     "data": {
      "text/plain": [
       "0.8575796966883319"
      ]
     },
     "execution_count": 168,
     "metadata": {},
     "output_type": "execute_result"
    }
   ],
   "source": [
    "score_1 = cross_val_score(RandomForestClassifier(n_estimators=5),digits.data,digits.target)\n",
    "np.average(score_1)"
   ]
  },
  {
   "cell_type": "code",
   "execution_count": 170,
   "id": "90be85d3-da00-4711-989e-74037eb2ae13",
   "metadata": {},
   "outputs": [
    {
     "data": {
      "text/plain": [
       "0.9232358402971215"
      ]
     },
     "execution_count": 170,
     "metadata": {},
     "output_type": "execute_result"
    }
   ],
   "source": [
    "score_2 = cross_val_score(RandomForestClassifier( n_estimators = 20),digits.data,digits.target)\n",
    "np.average(score_2)"
   ]
  },
  {
   "cell_type": "code",
   "execution_count": 172,
   "id": "1fc575e0-9f3e-4466-a8b6-3f87c65ad936",
   "metadata": {},
   "outputs": [
    {
     "data": {
      "text/plain": [
       "0.9376880222841226"
      ]
     },
     "execution_count": 172,
     "metadata": {},
     "output_type": "execute_result"
    }
   ],
   "source": [
    "score_3 = cross_val_score(RandomForestClassifier( n_estimators = 40),digits.data,digits.target)\n",
    "np.average(score_3)"
   ]
  },
  {
   "cell_type": "code",
   "execution_count": null,
   "id": "4c3251f2-e68d-46ed-908e-e4472097e463",
   "metadata": {},
   "outputs": [],
   "source": []
  }
 ],
 "metadata": {
  "kernelspec": {
   "display_name": "Python [conda env:base] *",
   "language": "python",
   "name": "conda-base-py"
  },
  "language_info": {
   "codemirror_mode": {
    "name": "ipython",
    "version": 3
   },
   "file_extension": ".py",
   "mimetype": "text/x-python",
   "name": "python",
   "nbconvert_exporter": "python",
   "pygments_lexer": "ipython3",
   "version": "3.11.5"
  }
 },
 "nbformat": 4,
 "nbformat_minor": 5
}
